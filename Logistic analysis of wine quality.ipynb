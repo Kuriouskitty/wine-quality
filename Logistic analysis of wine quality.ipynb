{
 "cells": [
  {
   "cell_type": "code",
   "execution_count": null,
   "metadata": {},
   "outputs": [],
   "source": []
  }
 ],
 "metadata": {
  "kernelspec": {
   "display_name": "base",
   "language": "python",
   "name": "python3"
  },
  "language_info": {
   "name": "python",
   "version": "3.9.13 (main, Aug 25 2022, 23:51:50) [MSC v.1916 64 bit (AMD64)]"
  },
  "orig_nbformat": 4,
  "vscode": {
   "interpreter": {
    "hash": "b0b8cc08e20245deabe959520bd8e7680a651eb7300fccfd97634edcdee239da"
   }
  }
 },
 "nbformat": 4,
 "nbformat_minor": 2
}
